{
 "cells": [
  {
   "cell_type": "markdown",
   "metadata": {},
   "source": [
    "## Linear regression"
   ]
  },
  {
   "cell_type": "code",
   "execution_count": 1,
   "metadata": {},
   "outputs": [],
   "source": [
    "import pandas as pd"
   ]
  },
  {
   "cell_type": "code",
   "execution_count": 2,
   "metadata": {},
   "outputs": [],
   "source": [
    "import numpy as np"
   ]
  },
  {
   "cell_type": "code",
   "execution_count": 3,
   "metadata": {},
   "outputs": [],
   "source": [
    "df_train = pd.read_csv(\"./linear_regression_data/train.csv\")"
   ]
  },
  {
   "cell_type": "code",
   "execution_count": 4,
   "metadata": {},
   "outputs": [
    {
     "data": {
      "text/html": [
       "<div>\n",
       "<style scoped>\n",
       "    .dataframe tbody tr th:only-of-type {\n",
       "        vertical-align: middle;\n",
       "    }\n",
       "\n",
       "    .dataframe tbody tr th {\n",
       "        vertical-align: top;\n",
       "    }\n",
       "\n",
       "    .dataframe thead th {\n",
       "        text-align: right;\n",
       "    }\n",
       "</style>\n",
       "<table border=\"1\" class=\"dataframe\">\n",
       "  <thead>\n",
       "    <tr style=\"text-align: right;\">\n",
       "      <th></th>\n",
       "      <th>x</th>\n",
       "      <th>y</th>\n",
       "    </tr>\n",
       "  </thead>\n",
       "  <tbody>\n",
       "    <tr>\n",
       "      <th>0</th>\n",
       "      <td>24.0</td>\n",
       "      <td>21.549452</td>\n",
       "    </tr>\n",
       "    <tr>\n",
       "      <th>1</th>\n",
       "      <td>50.0</td>\n",
       "      <td>47.464463</td>\n",
       "    </tr>\n",
       "    <tr>\n",
       "      <th>2</th>\n",
       "      <td>15.0</td>\n",
       "      <td>17.218656</td>\n",
       "    </tr>\n",
       "    <tr>\n",
       "      <th>3</th>\n",
       "      <td>38.0</td>\n",
       "      <td>36.586398</td>\n",
       "    </tr>\n",
       "    <tr>\n",
       "      <th>4</th>\n",
       "      <td>87.0</td>\n",
       "      <td>87.288984</td>\n",
       "    </tr>\n",
       "  </tbody>\n",
       "</table>\n",
       "</div>"
      ],
      "text/plain": [
       "      x          y\n",
       "0  24.0  21.549452\n",
       "1  50.0  47.464463\n",
       "2  15.0  17.218656\n",
       "3  38.0  36.586398\n",
       "4  87.0  87.288984"
      ]
     },
     "execution_count": 4,
     "metadata": {},
     "output_type": "execute_result"
    }
   ],
   "source": [
    "df_train.head()"
   ]
  },
  {
   "cell_type": "code",
   "execution_count": 5,
   "metadata": {},
   "outputs": [
    {
     "data": {
      "text/plain": [
       "True"
      ]
     },
     "execution_count": 5,
     "metadata": {},
     "output_type": "execute_result"
    }
   ],
   "source": [
    "df_train.isnull().values.any()"
   ]
  },
  {
   "cell_type": "code",
   "execution_count": 6,
   "metadata": {},
   "outputs": [],
   "source": [
    "df_test = pd.read_csv(\"./linear_regression_data/test.csv\")"
   ]
  },
  {
   "cell_type": "code",
   "execution_count": 7,
   "metadata": {},
   "outputs": [
    {
     "data": {
      "text/html": [
       "<div>\n",
       "<style scoped>\n",
       "    .dataframe tbody tr th:only-of-type {\n",
       "        vertical-align: middle;\n",
       "    }\n",
       "\n",
       "    .dataframe tbody tr th {\n",
       "        vertical-align: top;\n",
       "    }\n",
       "\n",
       "    .dataframe thead th {\n",
       "        text-align: right;\n",
       "    }\n",
       "</style>\n",
       "<table border=\"1\" class=\"dataframe\">\n",
       "  <thead>\n",
       "    <tr style=\"text-align: right;\">\n",
       "      <th></th>\n",
       "      <th>x</th>\n",
       "      <th>y</th>\n",
       "    </tr>\n",
       "  </thead>\n",
       "  <tbody>\n",
       "    <tr>\n",
       "      <th>0</th>\n",
       "      <td>77</td>\n",
       "      <td>79.775152</td>\n",
       "    </tr>\n",
       "    <tr>\n",
       "      <th>1</th>\n",
       "      <td>21</td>\n",
       "      <td>23.177279</td>\n",
       "    </tr>\n",
       "    <tr>\n",
       "      <th>2</th>\n",
       "      <td>22</td>\n",
       "      <td>25.609262</td>\n",
       "    </tr>\n",
       "    <tr>\n",
       "      <th>3</th>\n",
       "      <td>20</td>\n",
       "      <td>17.857388</td>\n",
       "    </tr>\n",
       "    <tr>\n",
       "      <th>4</th>\n",
       "      <td>36</td>\n",
       "      <td>41.849864</td>\n",
       "    </tr>\n",
       "  </tbody>\n",
       "</table>\n",
       "</div>"
      ],
      "text/plain": [
       "    x          y\n",
       "0  77  79.775152\n",
       "1  21  23.177279\n",
       "2  22  25.609262\n",
       "3  20  17.857388\n",
       "4  36  41.849864"
      ]
     },
     "execution_count": 7,
     "metadata": {},
     "output_type": "execute_result"
    }
   ],
   "source": [
    "df_test.head()"
   ]
  },
  {
   "cell_type": "markdown",
   "metadata": {},
   "source": [
    "#### Option 1 - pure Python"
   ]
  },
  {
   "cell_type": "code",
   "execution_count": 8,
   "metadata": {},
   "outputs": [],
   "source": [
    "def cost(a0,a1,X,Y):\n",
    "    J=0\n",
    "    for i in range(len(X)):\n",
    "        J+=(a0+a1*X[i]-Y[i])**2\n",
    "    return (1/len(X))*J    "
   ]
  },
  {
   "cell_type": "code",
   "execution_count": 9,
   "metadata": {},
   "outputs": [],
   "source": [
    "df_train=df_train.dropna().reset_index(drop=True)"
   ]
  },
  {
   "cell_type": "code",
   "execution_count": 10,
   "metadata": {},
   "outputs": [
    {
     "data": {
      "text/plain": [
       "False"
      ]
     },
     "execution_count": 10,
     "metadata": {},
     "output_type": "execute_result"
    }
   ],
   "source": [
    "df_train.isnull().values.any()"
   ]
  },
  {
   "cell_type": "code",
   "execution_count": 11,
   "metadata": {},
   "outputs": [
    {
     "data": {
      "text/plain": [
       "699"
      ]
     },
     "execution_count": 11,
     "metadata": {},
     "output_type": "execute_result"
    }
   ],
   "source": [
    "len(df_train)"
   ]
  },
  {
   "cell_type": "code",
   "execution_count": 12,
   "metadata": {},
   "outputs": [
    {
     "data": {
      "text/plain": [
       "3340.12482617867"
      ]
     },
     "execution_count": 12,
     "metadata": {},
     "output_type": "execute_result"
    }
   ],
   "source": [
    "cost(0,0,df_train[\"x\"],df_train[\"y\"])"
   ]
  },
  {
   "cell_type": "code",
   "execution_count": 13,
   "metadata": {},
   "outputs": [],
   "source": [
    "def dcost_a0(a0,a1,X,Y):\n",
    "    d0=0\n",
    "    for i in range(len(X)):\n",
    "        d0+=(a0+a1*X[i]-Y[i])  \n",
    "    return (2/len(X))*d0    "
   ]
  },
  {
   "cell_type": "code",
   "execution_count": 14,
   "metadata": {},
   "outputs": [
    {
     "data": {
      "text/plain": [
       "-99.87973834091552"
      ]
     },
     "execution_count": 14,
     "metadata": {},
     "output_type": "execute_result"
    }
   ],
   "source": [
    "dcost_a0(0 ,0,df_train[\"x\"],df_train[\"y\"])"
   ]
  },
  {
   "cell_type": "code",
   "execution_count": 15,
   "metadata": {},
   "outputs": [],
   "source": [
    "def dcost_a1(a0,a1,X,Y):\n",
    "    d1=0\n",
    "    for i in range(len(X)):\n",
    "        d1+=(a0+a1*X[i]-Y[i])*X[i]\n",
    "    return (2/len(X))*d1    "
   ]
  },
  {
   "cell_type": "code",
   "execution_count": 16,
   "metadata": {},
   "outputs": [
    {
     "data": {
      "text/plain": [
       "-6670.849169037078"
      ]
     },
     "execution_count": 16,
     "metadata": {},
     "output_type": "execute_result"
    }
   ],
   "source": [
    "dcost_a1(0 ,0,df_train[\"x\"],df_train[\"y\"])"
   ]
  },
  {
   "cell_type": "code",
   "execution_count": 17,
   "metadata": {},
   "outputs": [],
   "source": [
    "def regression(a0,a1,X,Y,iter_=1500, learning_rate=0.0001):\n",
    "    for i in range(iter_):\n",
    "        J=cost(a0,a1,X,Y)\n",
    "#         print(J)\n",
    "        d0=dcost_a0(a0,a1,X,Y)\n",
    "        d1=dcost_a1(a0,a1,X,Y)\n",
    "        a0+=-learning_rate*d0\n",
    "        a1+=-learning_rate*d1\n",
    "    return a0,a1        "
   ]
  },
  {
   "cell_type": "code",
   "execution_count": 18,
   "metadata": {},
   "outputs": [],
   "source": [
    "a0,a1=regression(0,0,df_train[\"x\"],df_train[\"y\"])"
   ]
  },
  {
   "cell_type": "code",
   "execution_count": 19,
   "metadata": {},
   "outputs": [
    {
     "data": {
      "text/plain": [
       "(0.006108317642737611, 0.9989578434684898)"
      ]
     },
     "execution_count": 19,
     "metadata": {},
     "output_type": "execute_result"
    }
   ],
   "source": [
    "a0,a1"
   ]
  },
  {
   "cell_type": "code",
   "execution_count": 20,
   "metadata": {},
   "outputs": [],
   "source": [
    "from matplotlib import pyplot as plt"
   ]
  },
  {
   "cell_type": "code",
   "execution_count": 21,
   "metadata": {},
   "outputs": [
    {
     "data": {
      "image/png": "[encoded data removed]",
      "text/plain": [
       "<Figure size 432x288 with 1 Axes>"
      ]
     },
     "metadata": {
      "needs_background": "light"
     },
     "output_type": "display_data"
    }
   ],
   "source": [
    "plt.scatter(df_train[\"x\"],df_train[\"y\"],color='b')\n",
    "plt.plot(df_train['x'], a0+a1*df_train['x'],color='k')\n",
    "# plt.legend(['More error'])\n",
    "plt.show()"
   ]
  },
  {
   "cell_type": "code",
   "execution_count": 22,
   "metadata": {},
   "outputs": [],
   "source": [
    "df_test=df_test.dropna().reset_index(drop=True)"
   ]
  },
  {
   "cell_type": "code",
   "execution_count": 23,
   "metadata": {},
   "outputs": [
    {
     "data": {
      "image/png": "[encoded data removed]",
      "text/plain": [
       "<Figure size 432x288 with 1 Axes>"
      ]
     },
     "metadata": {
      "needs_background": "light"
     },
     "output_type": "display_data"
    }
   ],
   "source": [
    "plt.scatter(df_test[\"x\"],df_test[\"y\"],color='b')\n",
    "plt.plot(df_test['x'], a0+a1*df_test['x'],color='k')\n",
    "# plt.legend(['More error'])\n",
    "plt.show()"
   ]
  },
  {
   "cell_type": "markdown",
   "metadata": {},
   "source": [
    "#### Option 2 - NumPy"
   ]
  },
  {
   "cell_type": "code",
   "execution_count": 24,
   "metadata": {},
   "outputs": [],
   "source": [
    "def cost_2(a0,a1,X,Y):\n",
    "    X=np.array(X).reshape(-1,1)\n",
    "    Y=np.array(Y).reshape(-1,1)\n",
    "\n",
    "    a0=np.full((len(X),1), a0) \n",
    "    a1=np.full((len(X),1), a1) \n",
    "    \n",
    "    y = a0 + np.multiply(a1,X)\n",
    "    error = y - Y\n",
    "    mean_sq_er = np.sum(error**2)\n",
    "        \n",
    "    return (1/len(X))*mean_sq_er"
   ]
  },
  {
   "cell_type": "code",
   "execution_count": 25,
   "metadata": {},
   "outputs": [
    {
     "data": {
      "text/plain": [
       "3340.1248261786727"
      ]
     },
     "execution_count": 25,
     "metadata": {},
     "output_type": "execute_result"
    }
   ],
   "source": [
    "cost_2(0,0,df_train[\"x\"],df_train[\"y\"])"
   ]
  },
  {
   "cell_type": "code",
   "execution_count": 26,
   "metadata": {},
   "outputs": [],
   "source": [
    "def dcost_a0_2(a0,a1,X,Y):\n",
    "    X=np.array(X).reshape(-1,1)\n",
    "    Y=np.array(Y).reshape(-1,1)\n",
    "    a0=np.full((len(X),1), a0) \n",
    "    a1=np.full((len(X),1), a1) \n",
    "    y = a0 + np.multiply(a1,X)\n",
    "    error = y - Y\n",
    "    return (2/len(X))*np.sum(error) "
   ]
  },
  {
   "cell_type": "code",
   "execution_count": 27,
   "metadata": {},
   "outputs": [
    {
     "data": {
      "text/plain": [
       "-99.87973834091561"
      ]
     },
     "execution_count": 27,
     "metadata": {},
     "output_type": "execute_result"
    }
   ],
   "source": [
    "dcost_a0_2(0, 0,df_train[\"x\"],df_train[\"y\"])"
   ]
  },
  {
   "cell_type": "code",
   "execution_count": 28,
   "metadata": {},
   "outputs": [],
   "source": [
    "def dcost_a1_2(a0,a1,X,Y):\n",
    "    X=np.array(X).reshape(-1,1)\n",
    "    Y=np.array(Y).reshape(-1,1)\n",
    "    a0=np.full((len(X),1), a0) \n",
    "    a1=np.full((len(X),1), a1) \n",
    "    y = a0 + np.multiply(a1,X)\n",
    "    error = np.dot((y - Y).T,X)\n",
    "\n",
    "    return (2/len(X))*np.sum(error)    "
   ]
  },
  {
   "cell_type": "code",
   "execution_count": 29,
   "metadata": {},
   "outputs": [
    {
     "data": {
      "text/plain": [
       "-6670.849169037075"
      ]
     },
     "execution_count": 29,
     "metadata": {},
     "output_type": "execute_result"
    }
   ],
   "source": [
    "dcost_a1_2(0 ,0,df_train[\"x\"],df_train[\"y\"])"
   ]
  },
  {
   "cell_type": "code",
   "execution_count": 30,
   "metadata": {},
   "outputs": [],
   "source": [
    "def regression_2(a0,a1,X,Y,iter_=1500, learning_rate=0.0001):\n",
    "    for i in range(iter_):\n",
    "        J=cost_2(a0,a1,X,Y)\n",
    "#         print(J)\n",
    "        d0=dcost_a0_2(a0,a1,X,Y)\n",
    "        d1=dcost_a1_2(a0,a1,X,Y)\n",
    "        \n",
    "        a0+=-learning_rate*d0\n",
    "        a1+=-learning_rate*d1\n",
    "        \n",
    "    return a0,a1 "
   ]
  },
  {
   "cell_type": "code",
   "execution_count": 31,
   "metadata": {},
   "outputs": [],
   "source": [
    "a0,a1=regression_2(0,0,df_train[\"x\"],df_train[\"y\"])"
   ]
  },
  {
   "cell_type": "code",
   "execution_count": 32,
   "metadata": {},
   "outputs": [
    {
     "data": {
      "text/plain": [
       "(0.006108317642737613, 0.9989578434684898)"
      ]
     },
     "execution_count": 32,
     "metadata": {},
     "output_type": "execute_result"
    }
   ],
   "source": [
    "a0,a1"
   ]
  },
  {
   "cell_type": "code",
   "execution_count": 33,
   "metadata": {},
   "outputs": [
    {
     "data": {
      "image/png": "[encoded data removed]",
      "text/plain": [
       "<Figure size 432x288 with 1 Axes>"
      ]
     },
     "metadata": {
      "needs_background": "light"
     },
     "output_type": "display_data"
    }
   ],
   "source": [
    "plt.scatter(df_train[\"x\"],df_train[\"y\"],color='b')\n",
    "plt.plot(df_train['x'], a0+a1*df_train['x'],color='k')\n",
    "# plt.legend(['More error'])\n",
    "plt.show()"
   ]
  },
  {
   "cell_type": "code",
   "execution_count": 34,
   "metadata": {},
   "outputs": [
    {
     "data": {
      "image/png": "[encoded data removed]",
      "text/plain": [
       "<Figure size 432x288 with 1 Axes>"
      ]
     },
     "metadata": {
      "needs_background": "light"
     },
     "output_type": "display_data"
    }
   ],
   "source": [
    "plt.scatter(df_test[\"x\"],df_test[\"y\"],color='b')\n",
    "plt.plot(df_test['x'], a0+a1*df_test['x'],color='k')\n",
    "# plt.legend(['More error'])\n",
    "plt.show()"
   ]
  },
  {
   "cell_type": "markdown",
   "metadata": {},
   "source": [
    "## Logistic regression"
   ]
  },
  {
   "cell_type": "code",
   "execution_count": 85,
   "metadata": {},
   "outputs": [],
   "source": [
    "from sklearn.datasets.samples_generator import make_blobs\n",
    "# generate 2d classification dataset\n",
    "X, y = make_blobs(n_samples=100, centers=2, n_features=2, random_state=4)"
   ]
  },
  {
   "cell_type": "code",
   "execution_count": 86,
   "metadata": {},
   "outputs": [],
   "source": [
    "# from sklearn import datasets\n",
    "import math"
   ]
  },
  {
   "cell_type": "code",
   "execution_count": 87,
   "metadata": {},
   "outputs": [],
   "source": [
    "# iris = datasets.load_iris()\n",
    "# X = iris.data[:, :2]  # we only take the first two features.\n",
    "# y = iris.target"
   ]
  },
  {
   "cell_type": "code",
   "execution_count": 88,
   "metadata": {},
   "outputs": [
    {
     "data": {
      "text/plain": [
       "Text(0,0.5,'Sepal width')"
      ]
     },
     "execution_count": 88,
     "metadata": {},
     "output_type": "execute_result"
    },
    {
     "data": {
      "image/png": "[encoded data removed]",
      "text/plain": [
       "<Figure size 432x288 with 1 Axes>"
      ]
     },
     "metadata": {
      "needs_background": "light"
     },
     "output_type": "display_data"
    }
   ],
   "source": [
    "# Plot the training points\n",
    "plt.scatter(X[:, 0], X[:, 1], c=y, cmap=plt.cm.Set1,\n",
    "            edgecolor='k')\n",
    "plt.xlabel('Sepal length')\n",
    "plt.ylabel('Sepal width')"
   ]
  },
  {
   "cell_type": "code",
   "execution_count": 89,
   "metadata": {},
   "outputs": [
    {
     "data": {
      "text/plain": [
       "(100, 100)"
      ]
     },
     "execution_count": 89,
     "metadata": {},
     "output_type": "execute_result"
    }
   ],
   "source": [
    "len(X),len(y)"
   ]
  },
  {
   "cell_type": "markdown",
   "metadata": {},
   "source": [
    "#### Option 1 - pure Python"
   ]
  },
  {
   "cell_type": "code",
   "execution_count": 90,
   "metadata": {},
   "outputs": [],
   "source": [
    "def sigma(z):\n",
    "    return 1/(1+math.exp(-z))"
   ]
  },
  {
   "cell_type": "code",
   "execution_count": 308,
   "metadata": {},
   "outputs": [],
   "source": [
    "def cost_l(a0,a1,a2,X,Y):\n",
    "    J=0    \n",
    "    for i in range(len(X)):\n",
    "        z=a0+a1*X[i][0]+a2*X[i][1]\n",
    "#         print(z)\n",
    "        h=sigma(z)\n",
    "#         print(h)\n",
    "#         print(Y[i]*math.log(h)+(1-Y[i])*math.log(1-h))\n",
    "        J+=(Y[i]*math.log(h)+(1-Y[i])*math.log(1-h))\n",
    "    \n",
    "    return -(1/len(X))*J  "
   ]
  },
  {
   "cell_type": "code",
   "execution_count": 115,
   "metadata": {},
   "outputs": [
    {
     "data": {
      "text/plain": [
       "6.644893475351032"
      ]
     },
     "execution_count": 115,
     "metadata": {},
     "output_type": "execute_result"
    }
   ],
   "source": [
    "cost_l(0,1,4,X,y)"
   ]
  },
  {
   "cell_type": "code",
   "execution_count": 324,
   "metadata": {},
   "outputs": [],
   "source": [
    "def dcost_a0_l(a0,a1,a2,X,Y):\n",
    "    d0=0\n",
    "    for i in range(len(X)):\n",
    "        z=a0+a1*X[i][0]+a2*X[i][1]\n",
    "       \n",
    "        h=sigma(z)\n",
    "        d0+=(h-Y[i]) \n",
    "    return (1/len(X))*d0   "
   ]
  },
  {
   "cell_type": "code",
   "execution_count": 94,
   "metadata": {},
   "outputs": [
    {
     "data": {
      "text/plain": [
       "0.0"
      ]
     },
     "execution_count": 94,
     "metadata": {},
     "output_type": "execute_result"
    }
   ],
   "source": [
    "dcost_a0_l(0,0,0,X,y)"
   ]
  },
  {
   "cell_type": "code",
   "execution_count": 95,
   "metadata": {},
   "outputs": [],
   "source": [
    "def dcost_a1_l(a0,a1,a2,X,Y):\n",
    "    d0=0\n",
    "    for i in range(len(X)):\n",
    "        z=a0+a1*X[i][0]+a2*X[i][1]\n",
    "        h=sigma(z)\n",
    "        d0+=(h-Y[i])*X[i][0] \n",
    "    return (1/len(X))*d0   "
   ]
  },
  {
   "cell_type": "code",
   "execution_count": 96,
   "metadata": {},
   "outputs": [
    {
     "data": {
      "text/plain": [
       "-0.05818036848740131"
      ]
     },
     "execution_count": 96,
     "metadata": {},
     "output_type": "execute_result"
    }
   ],
   "source": [
    "dcost_a1_l(0,0,0,X,y)"
   ]
  },
  {
   "cell_type": "code",
   "execution_count": 97,
   "metadata": {},
   "outputs": [],
   "source": [
    "def dcost_a2_l(a0,a1,a2,X,Y):\n",
    "    d0=0\n",
    "    for i in range(len(X)):\n",
    "        z=a0+a1*X[i][0]+a2*X[i][1]\n",
    "        h=sigma(z)\n",
    "        d0+=(h-Y[i])*X[i][1] \n",
    "    return (1/len(X))*d0 "
   ]
  },
  {
   "cell_type": "code",
   "execution_count": 98,
   "metadata": {},
   "outputs": [
    {
     "data": {
      "text/plain": [
       "-0.7882588075145236"
      ]
     },
     "execution_count": 98,
     "metadata": {},
     "output_type": "execute_result"
    }
   ],
   "source": [
    "dcost_a2_l(0,0,0,X,y)"
   ]
  },
  {
   "cell_type": "code",
   "execution_count": 99,
   "metadata": {},
   "outputs": [],
   "source": [
    "def logistic_regression(a0,a1,a2, X,Y,iter_=1500, learning_rate=0.001):\n",
    "    for i in range(iter_):\n",
    "        J=cost_l(a0,a1,a2,X,Y)\n",
    "#         print(J)\n",
    "        d0=dcost_a0_l(a0,a1,a2,X,Y)\n",
    "        d1=dcost_a1_l(a0,a1,a2,X,Y)\n",
    "        d2=dcost_a2_l(a0,a1,a2,X,Y)\n",
    "        a0+=-learning_rate*d0\n",
    "        a1+=-learning_rate*d1\n",
    "        a2+=-learning_rate*d2\n",
    "    return a0,a1,a2    "
   ]
  },
  {
   "cell_type": "code",
   "execution_count": 100,
   "metadata": {},
   "outputs": [],
   "source": [
    "a0,a1,a2=logistic_regression(0,0,0,X,y)"
   ]
  },
  {
   "cell_type": "code",
   "execution_count": 101,
   "metadata": {},
   "outputs": [],
   "source": [
    "from sklearn.metrics import confusion_matrix"
   ]
  },
  {
   "cell_type": "code",
   "execution_count": 102,
   "metadata": {},
   "outputs": [],
   "source": [
    "from sklearn.metrics import f1_score"
   ]
  },
  {
   "cell_type": "code",
   "execution_count": 103,
   "metadata": {},
   "outputs": [],
   "source": [
    "def predict(a0,a1,a2,X):\n",
    "    result=[]\n",
    "    for i in range(len(X)):\n",
    "        z=a0+a1*X[i][0]+a2*X[i][1]\n",
    "        h=sigma(z)\n",
    "        if h>0.5:\n",
    "            result.append(1)\n",
    "        else:\n",
    "            result.append(0)\n",
    "            \n",
    "    return result        "
   ]
  },
  {
   "cell_type": "code",
   "execution_count": 104,
   "metadata": {},
   "outputs": [],
   "source": [
    "y_pred=predict(a0,a1,a2,X)"
   ]
  },
  {
   "cell_type": "code",
   "execution_count": 105,
   "metadata": {},
   "outputs": [
    {
     "data": {
      "text/plain": [
       "array([[47,  3],\n",
       "       [ 1, 49]])"
      ]
     },
     "execution_count": 105,
     "metadata": {},
     "output_type": "execute_result"
    }
   ],
   "source": [
    "confusion_matrix(y,y_pred)"
   ]
  },
  {
   "cell_type": "code",
   "execution_count": 106,
   "metadata": {},
   "outputs": [
    {
     "data": {
      "text/plain": [
       "0.9607843137254902"
      ]
     },
     "execution_count": 106,
     "metadata": {},
     "output_type": "execute_result"
    }
   ],
   "source": [
    "f1_score(y,y_pred)"
   ]
  },
  {
   "cell_type": "markdown",
   "metadata": {},
   "source": [
    "#### Option 2 - NumPy"
   ]
  },
  {
   "cell_type": "code",
   "execution_count": 109,
   "metadata": {},
   "outputs": [],
   "source": [
    "import random"
   ]
  },
  {
   "cell_type": "code",
   "execution_count": 274,
   "metadata": {},
   "outputs": [],
   "source": [
    "def sigma_2(z):\n",
    "    result=1./(1.+np.exp(-z))\n",
    "    return result"
   ]
  },
  {
   "cell_type": "code",
   "execution_count": 310,
   "metadata": {},
   "outputs": [],
   "source": [
    "def cost_l_2(X,Y,A=[random.uniform(0, 1) for x in range(X.shape[1]+1)]):  \n",
    "    X_with_bias=np.insert(X, 0, values=1, axis=1)   \n",
    "    z=np.dot(X_with_bias,np.array(A).reshape(X_with_bias.shape[1],1))\n",
    "    h = sigma_2(z)\n",
    "    Y=Y.reshape(len(Y),1)  \n",
    "    J=np.sum(np.add(np.multiply(Y,np.log(h)),np.multiply(1.-Y,np.log(1.-h))))\n",
    "    return -(1/len(X))*J  "
   ]
  },
  {
   "cell_type": "code",
   "execution_count": 311,
   "metadata": {},
   "outputs": [
    {
     "data": {
      "text/plain": [
       "5.68629234585748"
      ]
     },
     "execution_count": 311,
     "metadata": {},
     "output_type": "execute_result"
    }
   ],
   "source": [
    "cost_l_2(X,y,A=[1,1,1])"
   ]
  },
  {
   "cell_type": "code",
   "execution_count": 388,
   "metadata": {},
   "outputs": [],
   "source": [
    "def dcost_a0_l_2(X,Y,A=[random.uniform(0, 1) for x in range(X.shape[1]+1)]):\n",
    "    X_with_bias=np.insert(X, 0, values=1, axis=1)   \n",
    "    z=np.dot(X_with_bias,np.array(A).reshape(X_with_bias.shape[1],1))\n",
    "    h = sigma_2(z)\n",
    "    Y=Y.reshape(len(Y),1)  \n",
    "    d0=np.sum(h-Y) \n",
    "    return (1/len(X))*d0  "
   ]
  },
  {
   "cell_type": "code",
   "execution_count": 389,
   "metadata": {},
   "outputs": [
    {
     "data": {
      "text/plain": [
       "0.4999999999708966"
      ]
     },
     "execution_count": 389,
     "metadata": {},
     "output_type": "execute_result"
    }
   ],
   "source": [
    "dcost_a0_l_2(X,y,A=[6,2,3])"
   ]
  },
  {
   "cell_type": "code",
   "execution_count": 405,
   "metadata": {},
   "outputs": [],
   "source": [
    "def dcost_a1_l_2(X,Y,A=[random.uniform(0, 1) for x in range(X.shape[1]+1)]):\n",
    "    X_with_bias=np.insert(X, 0, values=1, axis=1)   \n",
    "    z=np.dot(X_with_bias,np.array(A).reshape(X_with_bias.shape[1],1))\n",
    "    h = sigma_2(z)\n",
    "    Y=Y.reshape(len(Y),1)  \n",
    " \n",
    "    d0=np.sum(np.multiply(h-Y,X_with_bias[:,1].reshape(len(X_with_bias),1)))\n",
    "    return (1/len(X))*d0   "
   ]
  },
  {
   "cell_type": "code",
   "execution_count": 406,
   "metadata": {},
   "outputs": [
    {
     "data": {
      "text/plain": [
       "4.700172535615928"
      ]
     },
     "execution_count": 406,
     "metadata": {},
     "output_type": "execute_result"
    }
   ],
   "source": [
    "dcost_a1_l_2(X,y,A=[1,2,1])"
   ]
  },
  {
   "cell_type": "code",
   "execution_count": 407,
   "metadata": {},
   "outputs": [],
   "source": [
    "def dcost_a2_l_2(X,Y,A=[random.uniform(0, 1) for x in range(X.shape[1]+1)]):\n",
    "    X_with_bias=np.insert(X, 0, values=1, axis=1)   \n",
    "    z=np.dot(X_with_bias,np.array(A).reshape(X_with_bias.shape[1],1))\n",
    "    h = sigma_2(z)\n",
    "    Y=Y.reshape(len(Y),1)  \n",
    " \n",
    "    d0=np.sum(np.multiply(h-Y,X_with_bias[:,2].reshape(len(X_with_bias),1)))\n",
    "    return (1/len(X))*d0   "
   ]
  },
  {
   "cell_type": "code",
   "execution_count": 412,
   "metadata": {},
   "outputs": [
    {
     "data": {
      "text/plain": [
       "0.4861068117451332"
      ]
     },
     "execution_count": 412,
     "metadata": {},
     "output_type": "execute_result"
    }
   ],
   "source": [
    "dcost_a2_l_2(X,y,A=[1,2,5])"
   ]
  },
  {
   "cell_type": "code",
   "execution_count": 415,
   "metadata": {},
   "outputs": [],
   "source": [
    "def logistic_regression_2(X,Y,A=[random.uniform(0, 1) for x in range(X.shape[1]+1)],\n",
    "                          iter_=1500, learning_rate=0.001):\n",
    "    for i in range(iter_):\n",
    "        J=cost_l_2(X,Y,A)\n",
    "#         print(J)\n",
    "        d0=dcost_a0_l_2(X,Y,A)\n",
    "        d1=dcost_a1_l_2(X,Y,A)\n",
    "        d2=dcost_a2_l_2(X,Y,A)\n",
    "        A[0]+=-learning_rate*d0\n",
    "        A[1]+=-learning_rate*d1\n",
    "        A[2]+=-learning_rate*d2\n",
    "    return A[0],A[1],A[2]  "
   ]
  },
  {
   "cell_type": "code",
   "execution_count": 423,
   "metadata": {},
   "outputs": [],
   "source": [
    "a0,a1,a2=logistic_regression_2(X,y)"
   ]
  },
  {
   "cell_type": "code",
   "execution_count": 424,
   "metadata": {},
   "outputs": [],
   "source": [
    "y_pred=predict(a0,a1,a2,X)"
   ]
  },
  {
   "cell_type": "code",
   "execution_count": 425,
   "metadata": {},
   "outputs": [
    {
     "data": {
      "text/plain": [
       "array([[47,  3],\n",
       "       [ 1, 49]])"
      ]
     },
     "execution_count": 425,
     "metadata": {},
     "output_type": "execute_result"
    }
   ],
   "source": [
    "confusion_matrix(y,y_pred)"
   ]
  },
  {
   "cell_type": "code",
   "execution_count": 426,
   "metadata": {},
   "outputs": [
    {
     "data": {
      "text/plain": [
       "0.9607843137254902"
      ]
     },
     "execution_count": 426,
     "metadata": {},
     "output_type": "execute_result"
    }
   ],
   "source": [
    "f1_score(y,y_pred)"
   ]
  }
 ],
 "metadata": {
  "kernelspec": {
   "display_name": "Python 3",
   "language": "python",
   "name": "python3"
  },
  "language_info": {
   "codemirror_mode": {
    "name": "ipython",
    "version": 3
   },
   "file_extension": ".py",
   "mimetype": "text/x-python",
   "name": "python",
   "nbconvert_exporter": "python",
   "pygments_lexer": "ipython3",
   "version": "3.7.7"
  }
 },
 "nbformat": 4,
 "nbformat_minor": 2
}
